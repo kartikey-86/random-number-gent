{
 "cells": [
  {
   "cell_type": "code",
   "execution_count": 1,
   "id": "b348ce6d-fd25-4c18-a01c-d06da92c1575",
   "metadata": {},
   "outputs": [
    {
     "name": "stdout",
     "output_type": "stream",
     "text": [
      "5rFQ5bU7gxgvbe1Q\n"
     ]
    }
   ],
   "source": [
    "import string\n",
    "import secrets\n",
    "\n",
    "alphabets = string.ascii_letters + string.digits\n",
    "password = ''.join(secrets.choice(alphabets) for i in range (16))\n",
    "print( password)\n"
   ]
  },
  {
   "cell_type": "code",
   "execution_count": null,
   "id": "54a03377-56a0-4054-8ff7-5ae8cca0f01a",
   "metadata": {},
   "outputs": [],
   "source": []
  },
  {
   "cell_type": "code",
   "execution_count": null,
   "id": "4a6e2325-b40a-4efc-9558-5ad2f5159029",
   "metadata": {},
   "outputs": [],
   "source": []
  }
 ],
 "metadata": {
  "kernelspec": {
   "display_name": "Python [conda env:base] *",
   "language": "python",
   "name": "conda-base-py"
  },
  "language_info": {
   "codemirror_mode": {
    "name": "ipython",
    "version": 3
   },
   "file_extension": ".py",
   "mimetype": "text/x-python",
   "name": "python",
   "nbconvert_exporter": "python",
   "pygments_lexer": "ipython3",
   "version": "3.12.7"
  }
 },
 "nbformat": 4,
 "nbformat_minor": 5
}
